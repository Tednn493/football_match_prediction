{
  "nbformat": 4,
  "nbformat_minor": 0,
  "metadata": {
    "colab": {
      "provenance": [],
      "toc_visible": true,
      "authorship_tag": "ABX9TyMIjaEI+2oyHKJRqzHaqwUg",
      "include_colab_link": true
    },
    "kernelspec": {
      "name": "python3",
      "display_name": "Python 3"
    },
    "language_info": {
      "name": "python"
    }
  },
  "cells": [
    {
      "cell_type": "markdown",
      "metadata": {
        "id": "view-in-github",
        "colab_type": "text"
      },
      "source": [
        "<a href=\"https://colab.research.google.com/github/Tednn493/football_match_prediction/blob/main/WebScraping_fbref.ipynb\" target=\"_parent\"><img src=\"https://colab.research.google.com/assets/colab-badge.svg\" alt=\"Open In Colab\"/></a>"
      ]
    },
    {
      "cell_type": "code",
      "execution_count": null,
      "metadata": {
        "id": "nfkrK3WwtEM4"
      },
      "outputs": [],
      "source": [
        "from bs4 import BeautifulSoup\n",
        "import requests\n",
        "import pandas as pd\n",
        "import time\n",
        "\n",
        "url_standings = 'https://fbref.com/en/comps/9/2022-2023/2022-2023-Premier-League-Stats'\n",
        "\n",
        "all_matches=[]\n",
        "\n",
        "seasons = list(range(2023,2020,-1))\n",
        "\n",
        "for season in seasons:\n",
        "  data = requests.get(url_standings)\n",
        "  soup = BeautifulSoup(data.text)\n",
        "  table = soup.select('table.stats_table')[0]\n",
        "  links=table.find_all('a')\n",
        "  links=[l.get(\"href\") for l in links]\n",
        "  links = [l for l in links if \"/squads/\" in l ]\n",
        "  teams_url = [f'https://fbref.com{l}' for l in links]\n",
        "  prev_season= soup.select(\"a.prev\")[0].get(\"href\")\n",
        "  url_standings = f'https://fbref.com{prev_season}'\n",
        "\n",
        "  for team_url in teams_url:\n",
        "    team_name= team_url.split(\"/\")[-1].replace(\"-Stats\",\"\").replace(\"-\",\" \")\n",
        "\n",
        "    team_stats = requests.get(team_url)\n",
        "    matches=pd.read_html(team_stats.text, match = \"Scores & Fixtures\")[0]\n",
        "\n",
        "    soup = BeautifulSoup(team_stats.text)\n",
        "    links=soup.find_all('a')\n",
        "    links=[l.get(\"href\") for l in links]\n",
        "    links = [l for l in links if l and '/all_comps/shooting/' in l]\n",
        "    data = requests.get(f'https://fbref.com{links[0]}')\n",
        "    print(team_name)\n",
        "    shooting= pd.read_html(data.text, match=\"Shooting\")[0]\n",
        "    shooting.columns=shooting.columns.droplevel()\n",
        "\n",
        "    try:\n",
        "      teamData=matches.merge(shooting[[\"Date\",'Sh','SoT','Dist','FK','PK','PKatt']], on=\"Date\")\n",
        "    except ValueError:\n",
        "      continue\n",
        "    teamData=teamData[teamData[\"Comp\"] == \"Premier League\"]\n",
        "    teamData[\"Season\"] = season\n",
        "    teamData[\"Team\"] = team_name\n",
        "    all_matches.append(teamData)\n",
        "    time.sleep(1)\n",
        "\n",
        "match_df= pd.concat(all_matches)\n",
        "match_df.to_csv(\"matches.csv\")"
      ]
    },
    {
      "cell_type": "code",
      "source": [
        "match_df.shape"
      ],
      "metadata": {
        "colab": {
          "base_uri": "https://localhost:8080/"
        },
        "id": "N5fR6mq7YbsK",
        "outputId": "75a2ead8-5eda-4691-8215-77e8dcf49f76"
      },
      "execution_count": null,
      "outputs": [
        {
          "output_type": "execute_result",
          "data": {
            "text/plain": [
              "(2280, 27)"
            ]
          },
          "metadata": {},
          "execution_count": 7
        }
      ]
    },
    {
      "cell_type": "code",
      "source": [
        "\n",
        "match_df.columns = [name.lower() for name in match_df.columns]\n",
        "match_df.head()\n",
        "match_df.to_csv(\"matches.csv\")"
      ],
      "metadata": {
        "id": "rIsXO9aJk5Z9"
      },
      "execution_count": null,
      "outputs": []
    },
    {
      "cell_type": "code",
      "source": [
        "match_df[\"team\"].value_counts()"
      ],
      "metadata": {
        "colab": {
          "base_uri": "https://localhost:8080/"
        },
        "id": "ti5oowghyEQ3",
        "outputId": "0c569cae-debf-4bd2-9a58-9185d5c0ce88"
      },
      "execution_count": null,
      "outputs": [
        {
          "output_type": "execute_result",
          "data": {
            "text/plain": [
              "Manchester City             114\n",
              "Crystal Palace              114\n",
              "Southampton                 114\n",
              "Leeds United                114\n",
              "Leicester City              114\n",
              "Everton                     114\n",
              "West Ham United             114\n",
              "Arsenal                     114\n",
              "Chelsea                     114\n",
              "Wolverhampton Wanderers     114\n",
              "Tottenham Hotspur           114\n",
              "Aston Villa                 114\n",
              "Brighton and Hove Albion    114\n",
              "Liverpool                   114\n",
              "Newcastle United            114\n",
              "Manchester United           114\n",
              "Fulham                       76\n",
              "Brentford                    76\n",
              "Burnley                      76\n",
              "Bournemouth                  38\n",
              "Nottingham Forest            38\n",
              "Watford                      38\n",
              "Norwich City                 38\n",
              "West Bromwich Albion         38\n",
              "Sheffield United             38\n",
              "Name: team, dtype: int64"
            ]
          },
          "metadata": {},
          "execution_count": 12
        }
      ]
    }
  ]
}